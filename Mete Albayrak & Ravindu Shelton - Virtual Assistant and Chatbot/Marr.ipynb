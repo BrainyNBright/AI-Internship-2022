{
 "cells": [
  {
   "cell_type": "code",
   "execution_count": 1,
   "metadata": {},
   "outputs": [],
   "source": [
    "import pyttsx3\n",
    "import PyPDF2\n",
    "import speech_recognition as sr\n",
    "import datetime\n",
    "import wikipedia\n",
    "import pyaudio\n",
    "import webbrowser\n",
    "pdf_reader = PyPDF2.PdfFileReader(open(\"Capstone project guide.pdf\",\"rb\"))\n",
    "engine = pyttsx3.init()\n",
    "for page_number in range(pdf_reader.numPages):\n",
    "    text = pdf_reader.getPage(page_number).extractText()\n",
    "    engine.say(text)\n",
    "    engine.runAndWait()\n",
    "\n",
    "engine.stop()\n",
    "engine.save_to_file(text, \"Desktop/audio.mp3\")\n",
    "engine.runAndWait()"
   ]
  },
  {
   "cell_type": "code",
   "execution_count": 6,
   "metadata": {},
   "outputs": [
    {
     "data": {
      "text/plain": [
       "'hello'"
      ]
     },
     "execution_count": 6,
     "metadata": {},
     "output_type": "execute_result"
    }
   ],
   "source": [
    "def get_command():\n",
    "    command = input(\"Hello, I am Marr, your virtual assitant, how can I help you? \")\n",
    "    try:\n",
    "          # print(\"Listening...\")\n",
    "          command = command.lower()  # convert to lower case\n",
    "          if \"Marr\" in command:  \n",
    "            command = command.replace(\"Marr\", \"\") #replaces the Marr command with any other command\n",
    "            print(command)\n",
    "    except:\n",
    "        pass #  used to implement in the future\n",
    "        \n",
    "    return command  # return command that we are saying\n",
    "\n",
    "get_command()\n"
   ]
  },
  {
   "cell_type": "code",
   "execution_count": 9,
   "metadata": {},
   "outputs": [
    {
     "name": "stdout",
     "output_type": "stream",
     "text": [
      "Couldn't find where is the united arab emirates\n"
     ]
    }
   ],
   "source": [
    "def run_Marr():  # To start Marr\n",
    "    command = get_command()  # Get command\n",
    "    \n",
    "    if 'time' in command:  # To get the time\n",
    "        time = datetime.datetime.now().strftime(\n",
    "            '%I:%M %p')  # %H:%M for 24 hr format \n",
    "        print(time)\n",
    "\n",
    "    elif \"who is\" in command:  # To use word wikipedia in command\n",
    "        person = command.replace(\"who the hell is\", \"\")  \n",
    "        try:\n",
    "            info = wikipedia.summary(person, 1)  \n",
    "            print(info)\n",
    "\n",
    "        except:\n",
    "            print(\"Couldn't find \" + person)\n",
    "\n",
    "    \n",
    "    elif \"where is\" in command:  # To use word wikipedia in command\n",
    "        place = command.replace(\"where the hell is\", \"\")  \n",
    "        try:\n",
    "            info = wikipedia.summary(place, 1)  \n",
    "            print(info)\n",
    "\n",
    "        except:\n",
    "          print(\"Couldn't find \" + place)\n",
    "\n",
    "    elif \"how are you\" in command:\n",
    "      print(\"I'm good, how are you?\")\n",
    "\n",
    "    elif \"what is your name\" in command:\n",
    "      print(\"My name is Marr\")\n",
    "\n",
    "    elif \"what is your favourite color\" in command:\n",
    "      print(\"My favourite colors are red and black, they look so cool\")\n",
    "\n",
    "    elif \"which continent is your favourite\" in command:\n",
    "      print(\"My favourite continent is Europe, it is so beutiful and old-fashioned\")\n",
    "\n",
    "    elif \"open google\" in command:\n",
    "      webbrowser.open(\"www.google.com\")\n",
    " \n",
    "    elif \"open wikipedia\" in command:\n",
    "      webbrowser.open(\"www.wikipedia.org\")\n",
    "\n",
    "run_Marr()\n"
   ]
  },
  {
   "cell_type": "code",
   "execution_count": null,
   "metadata": {},
   "outputs": [],
   "source": [
    "if __name__==\"__Marr__\":\n",
    "  run_Marr()"
   ]
  }
 ],
 "metadata": {
  "kernelspec": {
   "display_name": "Python 3.10.6 64-bit (windows store)",
   "language": "python",
   "name": "python3"
  },
  "language_info": {
   "codemirror_mode": {
    "name": "ipython",
    "version": 3
   },
   "file_extension": ".py",
   "mimetype": "text/x-python",
   "name": "python",
   "nbconvert_exporter": "python",
   "pygments_lexer": "ipython3",
   "version": "3.10.6"
  },
  "orig_nbformat": 4,
  "vscode": {
   "interpreter": {
    "hash": "6447efe967439b27a8f21b6bc72b3292910610549e1efa8748172735d852a791"
   }
  }
 },
 "nbformat": 4,
 "nbformat_minor": 2
}
