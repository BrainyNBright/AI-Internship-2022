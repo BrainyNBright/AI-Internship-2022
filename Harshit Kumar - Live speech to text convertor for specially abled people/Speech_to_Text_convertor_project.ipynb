{
  "nbformat": 4,
  "nbformat_minor": 0,
  "metadata": {
    "colab": {
      "name": "Speech to Text convertor project",
      "provenance": [],
      "collapsed_sections": []
    },
    "kernelspec": {
      "name": "python3",
      "display_name": "Python 3"
    },
    "language_info": {
      "name": "python"
    }
  },
  "cells": [
    {
      "cell_type": "code",
      "source": [
        "DATASET_PATH = '/content/example.wav'"
      ],
      "metadata": {
        "id": "7kFkCZRSIh1o"
      },
      "execution_count": 10,
      "outputs": []
    },
    {
      "cell_type": "markdown",
      "source": [
        "This details the path of the audio which is imported into the program. At the end, this audio will be converted into the text form."
      ],
      "metadata": {
        "id": "0sfPV80nMfdX"
      }
    },
    {
      "cell_type": "code",
      "execution_count": 11,
      "metadata": {
        "colab": {
          "base_uri": "https://localhost:8080/"
        },
        "id": "TXCrRki9ybxO",
        "outputId": "8a80028c-8b58-43a5-9b15-f47a0b7014a2"
      },
      "outputs": [
        {
          "output_type": "stream",
          "name": "stdout",
          "text": [
            "Looking in indexes: https://pypi.org/simple, https://us-python.pkg.dev/colab-wheels/public/simple/\n",
            "Requirement already satisfied: speechrecognition in /usr/local/lib/python3.7/dist-packages (3.8.1)\n"
          ]
        }
      ],
      "source": [
        "pip install speechrecognition"
      ]
    },
    {
      "cell_type": "markdown",
      "source": [
        "The pip function is used to install the speechrecognition software. It also collects and downloads packages for speechrecognition.\n"
      ],
      "metadata": {
        "id": "0Uu6aZcJBDfU"
      }
    },
    {
      "cell_type": "code",
      "source": [
        "#import library \n",
        "import speech_recognition as sr\n",
        "#Initiаlize  reсоgnizer  сlаss  (fоr  reсоgnizing  the  sрeeсh)\n",
        "r = sr.Recognizer()"
      ],
      "metadata": {
        "id": "KugbI11E6tN-"
      },
      "execution_count": 12,
      "outputs": []
    },
    {
      "cell_type": "markdown",
      "source": [
        "Here, all the libraries and speech recognition module has been imported for the program to run"
      ],
      "metadata": {
        "id": "K63eNQzcBmZJ"
      }
    },
    {
      "cell_type": "code",
      "source": [
        "#import library\n",
        "import speech_recognition as sr\n",
        "#Initiаlize  reсоgnizer  сlаss  (fоr  reсоgnizing  the  sрeeсh)\n",
        "r = sr.Recognizer()\n",
        "# Reading Audio file as source\n",
        "#  listening  the  аudiо  file  аnd  stоre  in  аudiо_text  vаriаble\n",
        "with sr.AudioFile('example.wav') as source:\n",
        "    audio_text = r.listen(source)\n",
        "# recoginize_() method will throw a request error if the API is unreachable, hence using exception handling\n",
        "    try:\n",
        "        # using speechbrain \n",
        "        text = r.recognize_google(audio_text)\n",
        "        print('Converting audio transcripts into text ...')\n",
        "        print(text)\n",
        "    except:\n",
        "         print('Sorry.. run again...')"
      ],
      "metadata": {
        "colab": {
          "base_uri": "https://localhost:8080/"
        },
        "id": "ZXWy5DQq65JC",
        "outputId": "8a056df2-bbd8-45ea-a715-6cf2b1436a86"
      },
      "execution_count": 13,
      "outputs": [
        {
          "output_type": "stream",
          "name": "stdout",
          "text": [
            "Converting audio transcripts into text ...\n",
            "that's an interesting question well I'm quite a morning person and furthermore I'm fine almost nothing more relaxing than the sound of birds chirping in the morning I find that sounds me so fresh and innocent which immediately start my day off released even though I live in a big city now he text me back to my childhood in a Countryside\n"
          ]
        }
      ]
    },
    {
      "cell_type": "markdown",
      "source": [
        ""
      ],
      "metadata": {
        "id": "Mcfn-oKiMt7j"
      }
    },
    {
      "cell_type": "markdown",
      "source": [
        "From the speech recognition module which uses the SpeechBrain module, we call the AudioFile  which accepts the audio file Friendly_Store.wav as an input. Using the SpeechBrain speech to text converter method, the audio file is converted into text form."
      ],
      "metadata": {
        "id": "DdBHsahAi6Tt"
      }
    }
  ]
}