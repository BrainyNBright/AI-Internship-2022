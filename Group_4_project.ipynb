{
  "nbformat": 4,
  "nbformat_minor": 0,
  "metadata": {
    "colab": {
      "name": "Group 4: project ",
      "provenance": [],
      "collapsed_sections": [],
      "include_colab_link": true
    },
    "kernelspec": {
      "name": "python3",
      "display_name": "Python 3"
    },
    "language_info": {
      "name": "python"
    }
  },
  "cells": [
    {
      "cell_type": "markdown",
      "metadata": {
        "id": "view-in-github",
        "colab_type": "text"
      },
      "source": [
        "<a href=\"https://colab.research.google.com/github/BrainyNBright/AI-Internship-2022/blob/main/Group_4_project.ipynb\" target=\"_parent\"><img src=\"https://colab.research.google.com/assets/colab-badge.svg\" alt=\"Open In Colab\"/></a>"
      ]
    },
    {
      "cell_type": "code",
      "execution_count": null,
      "metadata": {
        "id": "HYUQI96W8urG"
      },
      "outputs": [],
      "source": [
        "import numpy as np \n",
        "import pandas as pd\n",
        "import plotly.express as px\n",
        "import plotly.graph_objects as go\n",
        "from plotly.graph_objs import Layout\n",
        "import matplotlib.pyplot as plt\n",
        "import os \n",
        "from mpl_toolkits.mplot3d import Axes3D\n",
        "from sklearn import datasets, model_selection, linear_model, metrics, preprocessing \n",
        "from sklearn.preprocessing import StandardScaler #all the imports we need for this project "
      ]
    },
    {
      "cell_type": "code",
      "source": [
        "df_marvel = pd.read_csv('endgame reviews.csv',encoding= 'unicode_escape')"
      ],
      "metadata": {
        "id": "grkAcT4Sq2so"
      },
      "execution_count": null,
      "outputs": []
    },
    {
      "cell_type": "code",
      "source": [
        "nRowsRead = 1000 # specify 'None' if want to read whole file\n",
        "# movie_review.csv has 64720 rows in reality, but we are only loading/previewing the first 1000 rows\n",
        "df1 = pd.read_csv('endgame reviews.csv', delimiter=',', nrows = nRowsRead) #will download the files and read the amount of rows\n",
        "df1.dataframeName = 'movie_review.csv' #this will allow python to download the file \n",
        "nRow, nCol = df1.shape #the size and the format of the data\n",
        "print(f'There are {nRow} rows and {nCol} columns') #finally implying the table and printing the final model"
      ],
      "metadata": {
        "colab": {
          "base_uri": "https://localhost:8080/"
        },
        "id": "zujWC4XtuAh4",
        "outputId": "3fd9d995-0fbc-4309-e7dd-45a46936f7a0"
      },
      "execution_count": null,
      "outputs": [
        {
          "output_type": "stream",
          "name": "stdout",
          "text": [
            "There are 65 rows and 5 columns\n"
          ]
        }
      ]
    },
    {
      "cell_type": "code",
      "source": [
        "df1.head(66) #this will allow us to see the table and the format of it in a form of a dataframe"
      ],
      "metadata": {
        "colab": {
          "base_uri": "https://localhost:8080/",
          "height": 424
        },
        "id": "SD6yKHTQua0p",
        "outputId": "8b75e933-5ff6-426d-c6a6-90decefd8c0e"
      },
      "execution_count": null,
      "outputs": [
        {
          "output_type": "execute_result",
          "data": {
            "text/plain": [
              "           Username                           Content (What they said) Rating  \\\n",
              "0     James Luxford  Eleven years of Universe building, and this is...    2/3   \n",
              "1     Stephen Romei  It is this part of the story, the human side, ...    1/3   \n",
              "2     Amy Nicholson  This is a feat of engineering. I felt a sense ...    1/3   \n",
              "3    David Gonzalez  Avengers: Endgame broke me, put me back togeth...    3/3   \n",
              "4      Brian Eggert  Who could have anticipated that Marvel Studios...    2/3   \n",
              "..              ...                                                ...    ...   \n",
              "60    Lucky Jeswani              I wasn't too much of a fan, it was ok    1/3   \n",
              "61  Jayden Miranda   I didn't like the movie, I am not really a mar...    0/3   \n",
              "62  Dwayne Miranda   I loved the movie especially for a child like ...    3/3   \n",
              "63  Tianna Thadani   Rubbish movie I have ever seen, I am never wat...    0/3   \n",
              "64  Aastha Keswani   It was pretty cool, but my friends were talkin...    1/3   \n",
              "\n",
              "         Gender         Date  \n",
              "0           Male  22.02.2022  \n",
              "1          Male   19.12.2019  \n",
              "2         Female  27.09.2019  \n",
              "3   Not Defined   18.02.2022  \n",
              "4          Male   03.03.2022  \n",
              "..           ...         ...  \n",
              "60          Male  25.04.2020  \n",
              "61          Male  26.07.2019  \n",
              "62          Male  22.05.2019  \n",
              "63       Female   23.01.2020  \n",
              "64        Female  13.02.2020  \n",
              "\n",
              "[65 rows x 5 columns]"
            ],
            "text/html": [
              "\n",
              "  <div id=\"df-8593b890-9c58-4310-8a22-be6253db2b9e\">\n",
              "    <div class=\"colab-df-container\">\n",
              "      <div>\n",
              "<style scoped>\n",
              "    .dataframe tbody tr th:only-of-type {\n",
              "        vertical-align: middle;\n",
              "    }\n",
              "\n",
              "    .dataframe tbody tr th {\n",
              "        vertical-align: top;\n",
              "    }\n",
              "\n",
              "    .dataframe thead th {\n",
              "        text-align: right;\n",
              "    }\n",
              "</style>\n",
              "<table border=\"1\" class=\"dataframe\">\n",
              "  <thead>\n",
              "    <tr style=\"text-align: right;\">\n",
              "      <th></th>\n",
              "      <th>Username</th>\n",
              "      <th>Content (What they said)</th>\n",
              "      <th>Rating</th>\n",
              "      <th>Gender</th>\n",
              "      <th>Date</th>\n",
              "    </tr>\n",
              "  </thead>\n",
              "  <tbody>\n",
              "    <tr>\n",
              "      <th>0</th>\n",
              "      <td>James Luxford</td>\n",
              "      <td>Eleven years of Universe building, and this is...</td>\n",
              "      <td>2/3</td>\n",
              "      <td>Male</td>\n",
              "      <td>22.02.2022</td>\n",
              "    </tr>\n",
              "    <tr>\n",
              "      <th>1</th>\n",
              "      <td>Stephen Romei</td>\n",
              "      <td>It is this part of the story, the human side, ...</td>\n",
              "      <td>1/3</td>\n",
              "      <td>Male</td>\n",
              "      <td>19.12.2019</td>\n",
              "    </tr>\n",
              "    <tr>\n",
              "      <th>2</th>\n",
              "      <td>Amy Nicholson</td>\n",
              "      <td>This is a feat of engineering. I felt a sense ...</td>\n",
              "      <td>1/3</td>\n",
              "      <td>Female</td>\n",
              "      <td>27.09.2019</td>\n",
              "    </tr>\n",
              "    <tr>\n",
              "      <th>3</th>\n",
              "      <td>David Gonzalez</td>\n",
              "      <td>Avengers: Endgame broke me, put me back togeth...</td>\n",
              "      <td>3/3</td>\n",
              "      <td>Not Defined</td>\n",
              "      <td>18.02.2022</td>\n",
              "    </tr>\n",
              "    <tr>\n",
              "      <th>4</th>\n",
              "      <td>Brian Eggert</td>\n",
              "      <td>Who could have anticipated that Marvel Studios...</td>\n",
              "      <td>2/3</td>\n",
              "      <td>Male</td>\n",
              "      <td>03.03.2022</td>\n",
              "    </tr>\n",
              "    <tr>\n",
              "      <th>...</th>\n",
              "      <td>...</td>\n",
              "      <td>...</td>\n",
              "      <td>...</td>\n",
              "      <td>...</td>\n",
              "      <td>...</td>\n",
              "    </tr>\n",
              "    <tr>\n",
              "      <th>60</th>\n",
              "      <td>Lucky Jeswani</td>\n",
              "      <td>I wasn't too much of a fan, it was ok</td>\n",
              "      <td>1/3</td>\n",
              "      <td>Male</td>\n",
              "      <td>25.04.2020</td>\n",
              "    </tr>\n",
              "    <tr>\n",
              "      <th>61</th>\n",
              "      <td>Jayden Miranda</td>\n",
              "      <td>I didn't like the movie, I am not really a mar...</td>\n",
              "      <td>0/3</td>\n",
              "      <td>Male</td>\n",
              "      <td>26.07.2019</td>\n",
              "    </tr>\n",
              "    <tr>\n",
              "      <th>62</th>\n",
              "      <td>Dwayne Miranda</td>\n",
              "      <td>I loved the movie especially for a child like ...</td>\n",
              "      <td>3/3</td>\n",
              "      <td>Male</td>\n",
              "      <td>22.05.2019</td>\n",
              "    </tr>\n",
              "    <tr>\n",
              "      <th>63</th>\n",
              "      <td>Tianna Thadani</td>\n",
              "      <td>Rubbish movie I have ever seen, I am never wat...</td>\n",
              "      <td>0/3</td>\n",
              "      <td>Female</td>\n",
              "      <td>23.01.2020</td>\n",
              "    </tr>\n",
              "    <tr>\n",
              "      <th>64</th>\n",
              "      <td>Aastha Keswani</td>\n",
              "      <td>It was pretty cool, but my friends were talkin...</td>\n",
              "      <td>1/3</td>\n",
              "      <td>Female</td>\n",
              "      <td>13.02.2020</td>\n",
              "    </tr>\n",
              "  </tbody>\n",
              "</table>\n",
              "<p>65 rows × 5 columns</p>\n",
              "</div>\n",
              "      <button class=\"colab-df-convert\" onclick=\"convertToInteractive('df-8593b890-9c58-4310-8a22-be6253db2b9e')\"\n",
              "              title=\"Convert this dataframe to an interactive table.\"\n",
              "              style=\"display:none;\">\n",
              "        \n",
              "  <svg xmlns=\"http://www.w3.org/2000/svg\" height=\"24px\"viewBox=\"0 0 24 24\"\n",
              "       width=\"24px\">\n",
              "    <path d=\"M0 0h24v24H0V0z\" fill=\"none\"/>\n",
              "    <path d=\"M18.56 5.44l.94 2.06.94-2.06 2.06-.94-2.06-.94-.94-2.06-.94 2.06-2.06.94zm-11 1L8.5 8.5l.94-2.06 2.06-.94-2.06-.94L8.5 2.5l-.94 2.06-2.06.94zm10 10l.94 2.06.94-2.06 2.06-.94-2.06-.94-.94-2.06-.94 2.06-2.06.94z\"/><path d=\"M17.41 7.96l-1.37-1.37c-.4-.4-.92-.59-1.43-.59-.52 0-1.04.2-1.43.59L10.3 9.45l-7.72 7.72c-.78.78-.78 2.05 0 2.83L4 21.41c.39.39.9.59 1.41.59.51 0 1.02-.2 1.41-.59l7.78-7.78 2.81-2.81c.8-.78.8-2.07 0-2.86zM5.41 20L4 18.59l7.72-7.72 1.47 1.35L5.41 20z\"/>\n",
              "  </svg>\n",
              "      </button>\n",
              "      \n",
              "  <style>\n",
              "    .colab-df-container {\n",
              "      display:flex;\n",
              "      flex-wrap:wrap;\n",
              "      gap: 12px;\n",
              "    }\n",
              "\n",
              "    .colab-df-convert {\n",
              "      background-color: #E8F0FE;\n",
              "      border: none;\n",
              "      border-radius: 50%;\n",
              "      cursor: pointer;\n",
              "      display: none;\n",
              "      fill: #1967D2;\n",
              "      height: 32px;\n",
              "      padding: 0 0 0 0;\n",
              "      width: 32px;\n",
              "    }\n",
              "\n",
              "    .colab-df-convert:hover {\n",
              "      background-color: #E2EBFA;\n",
              "      box-shadow: 0px 1px 2px rgba(60, 64, 67, 0.3), 0px 1px 3px 1px rgba(60, 64, 67, 0.15);\n",
              "      fill: #174EA6;\n",
              "    }\n",
              "\n",
              "    [theme=dark] .colab-df-convert {\n",
              "      background-color: #3B4455;\n",
              "      fill: #D2E3FC;\n",
              "    }\n",
              "\n",
              "    [theme=dark] .colab-df-convert:hover {\n",
              "      background-color: #434B5C;\n",
              "      box-shadow: 0px 1px 3px 1px rgba(0, 0, 0, 0.15);\n",
              "      filter: drop-shadow(0px 1px 2px rgba(0, 0, 0, 0.3));\n",
              "      fill: #FFFFFF;\n",
              "    }\n",
              "  </style>\n",
              "\n",
              "      <script>\n",
              "        const buttonEl =\n",
              "          document.querySelector('#df-8593b890-9c58-4310-8a22-be6253db2b9e button.colab-df-convert');\n",
              "        buttonEl.style.display =\n",
              "          google.colab.kernel.accessAllowed ? 'block' : 'none';\n",
              "\n",
              "        async function convertToInteractive(key) {\n",
              "          const element = document.querySelector('#df-8593b890-9c58-4310-8a22-be6253db2b9e');\n",
              "          const dataTable =\n",
              "            await google.colab.kernel.invokeFunction('convertToInteractive',\n",
              "                                                     [key], {});\n",
              "          if (!dataTable) return;\n",
              "\n",
              "          const docLinkHtml = 'Like what you see? Visit the ' +\n",
              "            '<a target=\"_blank\" href=https://colab.research.google.com/notebooks/data_table.ipynb>data table notebook</a>'\n",
              "            + ' to learn more about interactive tables.';\n",
              "          element.innerHTML = '';\n",
              "          dataTable['output_type'] = 'display_data';\n",
              "          await google.colab.output.renderOutput(dataTable, element);\n",
              "          const docLink = document.createElement('div');\n",
              "          docLink.innerHTML = docLinkHtml;\n",
              "          element.appendChild(docLink);\n",
              "        }\n",
              "      </script>\n",
              "    </div>\n",
              "  </div>\n",
              "  "
            ]
          },
          "metadata": {},
          "execution_count": 12
        }
      ]
    },
    {
      "cell_type": "code",
      "source": [
        "df_marvel.info() #this will get us the info of the dataframe, the number of rows and colums, as well as other data such as memory usage "
      ],
      "metadata": {
        "colab": {
          "base_uri": "https://localhost:8080/"
        },
        "id": "K4iPRg28uu3a",
        "outputId": "4699b064-c9a4-477c-da40-d248ff6aa56f"
      },
      "execution_count": null,
      "outputs": [
        {
          "output_type": "stream",
          "name": "stdout",
          "text": [
            "<class 'pandas.core.frame.DataFrame'>\n",
            "RangeIndex: 65 entries, 0 to 64\n",
            "Data columns (total 5 columns):\n",
            " #   Column                    Non-Null Count  Dtype \n",
            "---  ------                    --------------  ----- \n",
            " 0   Username                  65 non-null     object\n",
            " 1   Content (What they said)  65 non-null     object\n",
            " 2   Rating                    65 non-null     object\n",
            " 3   Gender                    65 non-null     object\n",
            " 4   Date                      65 non-null     object\n",
            "dtypes: object(5)\n",
            "memory usage: 2.7+ KB\n"
          ]
        }
      ]
    },
    {
      "cell_type": "code",
      "source": [
        "x = [\"Male\", \"Female\", \"not defined\"]\n",
        "y = [1, 2, 3]\n",
        "plt.bar(x, y)\n",
        "plt.title(\"endgame reviews\")\n",
        "df1 = pd.read_csv('endgame reviews.csv', delimiter=',', nrows = nRowsRead)\n",
        "plt.legend([\"bar\"])\n",
        "plt.show()"
      ],
      "metadata": {
        "id": "4K3DK0hO_OQX",
        "colab": {
          "base_uri": "https://localhost:8080/",
          "height": 281
        },
        "outputId": "b56908c3-3766-435c-bc3c-24680b4f3614"
      },
      "execution_count": null,
      "outputs": [
        {
          "output_type": "display_data",
          "data": {
            "text/plain": [
              "<Figure size 432x288 with 1 Axes>"
            ],
            "image/png": "[encoded data removed]"
          },
          "metadata": {
            "needs_background": "light"
          }
        }
      ]
    },
    {
      "cell_type": "code",
      "source": [
        "y = np.array([1, 2, 3])  #the data that we need, in this case the score \n",
        "mylabels = [\"Male\", \"Female\", \"not defined\"]  #the labels for pie graph \n",
        "plt.pie(y, labels = mylabels) #to specify that it is a pie graph, as well as applying the lables to the final outcome\n",
        "plt.show() #printing the final graph "
      ],
      "metadata": {
        "id": "3xzLBoaHUEaw",
        "colab": {
          "base_uri": "https://localhost:8080/",
          "height": 248
        },
        "outputId": "47bb75d0-babc-4cb3-fea2-1016361727eb"
      },
      "execution_count": null,
      "outputs": [
        {
          "output_type": "display_data",
          "data": {
            "text/plain": [
              "<Figure size 432x288 with 1 Axes>"
            ],
            "image/png": "[encoded data removed]"
          },
          "metadata": {}
        }
      ]
    },
    {
      "cell_type": "code",
      "source": [
        "lista=[\"Male\", \"Female\", \"not defined\"]  #the x axis, sort of \n",
        "listb=[2, 1, 1, 3, 2, 2, 1, 2, 1, 0, 2, 0, 1, 0, 1, 3, 3, 3, 1, 2, 2, 1, 1, 3, 3, 2, 2, 2, 1, 3, 2, 0, 3, 1, 1, 3, 3, 2, 3, 1, 1, 0, 3, 3, 2, 2, 2, 3, 3, 1, 3, 1, 2, 3, 3, 0, 2, 1, 3, 1, 0, 3, 0, 1, 2]\n",
        "plt.plot(listb,\"or\") #x and y ned same number of elements\n",
        "plt.xlabel(\"x-axis\")\n",
        "plt.ylabel(\"y-axis\")\n",
        "plt.title(\"Endgame Reviews\") #the title for the graph \n",
        "#plt.plot(list(range(0,30,2)))"
      ],
      "metadata": {
        "id": "u3u-3CBVXayw",
        "colab": {
          "base_uri": "https://localhost:8080/",
          "height": 313
        },
        "outputId": "7e08276c-973a-4ed1-ad29-44d141a2e4a8"
      },
      "execution_count": null,
      "outputs": [
        {
          "output_type": "execute_result",
          "data": {
            "text/plain": [
              "Text(0.5, 1.0, 'Endgame Reviews')"
            ]
          },
          "metadata": {},
          "execution_count": 12
        },
        {
          "output_type": "display_data",
          "data": {
            "text/plain": [
              "<Figure size 432x288 with 1 Axes>"
            ],
            "image/png": "[encoded data removed]"
          },
          "metadata": {
            "needs_background": "light"
          }
        }
      ]
    },
    {
      "cell_type": "code",
      "source": [
        "data = pd.read_csv (r'/content/endgame reviews.csv')   #uploading the file\n",
        "df = pd.DataFrame(data, columns= ['Username','Content (What they said)','Rating','Gender','Date']) #reading the file \n",
        "print (df) #prints the data "
      ],
      "metadata": {
        "colab": {
          "base_uri": "https://localhost:8080/"
        },
        "id": "LNmYufVQqShO",
        "outputId": "887fd436-94c5-4b67-f054-06769d8a182e"
      },
      "execution_count": null,
      "outputs": [
        {
          "output_type": "stream",
          "name": "stdout",
          "text": [
            "           Username                           Content (What they said) Rating  \\\n",
            "0     James Luxford  Eleven years of Universe building, and this is...    2/3   \n",
            "1     Stephen Romei  It is this part of the story, the human side, ...    1/3   \n",
            "2     Amy Nicholson  This is a feat of engineering. I felt a sense ...    1/3   \n",
            "3    David Gonzalez  Avengers: Endgame broke me, put me back togeth...    3/3   \n",
            "4      Brian Eggert  Who could have anticipated that Marvel Studios...    2/3   \n",
            "..              ...                                                ...    ...   \n",
            "60    Lucky Jeswani              I wasn't too much of a fan, it was ok    1/3   \n",
            "61  Jayden Miranda   I didn't like the movie, I am not really a mar...    0/3   \n",
            "62  Dwayne Miranda   I loved the movie especially for a child like ...    3/3   \n",
            "63  Tianna Thadani   Rubbish movie I have ever seen, I am never wat...    0/3   \n",
            "64  Aastha Keswani   It was pretty cool, but my friends were talkin...    1/3   \n",
            "\n",
            "    Gender        Date  \n",
            "0      NaN  22.02.2022  \n",
            "1      NaN  19.12.2019  \n",
            "2      NaN  27.09.2019  \n",
            "3      NaN  18.02.2022  \n",
            "4      NaN  03.03.2022  \n",
            "..     ...         ...  \n",
            "60     NaN  25.04.2020  \n",
            "61     NaN  26.07.2019  \n",
            "62     NaN  22.05.2019  \n",
            "63     NaN  23.01.2020  \n",
            "64     NaN  13.02.2020  \n",
            "\n",
            "[65 rows x 5 columns]\n"
          ]
        }
      ]
    },
    {
      "cell_type": "code",
      "source": [
        "x = df.sample(frac=0.8,random_state=0) #sample and randomizing state\n",
        "y = df.drop(x.index) "
      ],
      "metadata": {
        "id": "G-AxmiJYSpy6"
      },
      "execution_count": null,
      "outputs": []
    },
    {
      "cell_type": "code",
      "source": [
        "print(x.shape, y.shape) #printing the rows and colums (coordinates)"
      ],
      "metadata": {
        "colab": {
          "base_uri": "https://localhost:8080/"
        },
        "id": "F-3zZtSHXhZJ",
        "outputId": "5d59c6a6-b332-4743-ae66-9908bbea9afe"
      },
      "execution_count": null,
      "outputs": [
        {
          "output_type": "stream",
          "name": "stdout",
          "text": [
            "(52, 5) (13, 5)\n"
          ]
        }
      ]
    },
    {
      "cell_type": "code",
      "source": [
        "r=linear_model.LinearRegression() #printing the lineaqr regression \n",
        "r.fit(x_train, y_train)"
      ],
      "metadata": {
        "colab": {
          "base_uri": "https://localhost:8080/"
        },
        "id": "CGUEb-uDalIK",
        "outputId": "8954fed5-a636-42c6-c183-5bd86d2b7d5c"
      },
      "execution_count": null,
      "outputs": [
        {
          "output_type": "execute_result",
          "data": {
            "text/plain": [
              "LinearRegression()"
            ]
          },
          "metadata": {},
          "execution_count": 48
        }
      ]
    }
  ]
}